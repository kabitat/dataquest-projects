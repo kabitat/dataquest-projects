{
 "cells": [
  {
   "cell_type": "markdown",
   "metadata": {},
   "source": [
    "## Exploring US Births by Date\n",
    "In this workbook, I will be exploring a 1994 to 2003 US births data set. It  was provided by the National Center for Health Statistics housed within the Centers for Disease Control and Prevention in the US.\n",
    "\n",
    "I will not be use the pandas library to explore the data, but will rely on the functions that I will define."
   ]
  },
  {
   "cell_type": "markdown",
   "metadata": {},
   "source": [
    "### Opening the csv file\n",
    "This is to initially see what the data file looks like."
   ]
  },
  {
   "cell_type": "code",
   "execution_count": 1,
   "metadata": {},
   "outputs": [
    {
     "data": {
      "text/plain": [
       "['year,month,date_of_month,day_of_week,births', '1994,1,1,6,8096']"
      ]
     },
     "execution_count": 1,
     "metadata": {},
     "output_type": "execute_result"
    }
   ],
   "source": [
    "file=open('US_births_1994-2003_CDC_NCHS.csv','r')\n",
    "\n",
    "file=file.read()\n",
    "file=str(file)\n",
    "\n",
    "file_split=file.split('\\n')\n",
    "\n",
    "file_split[0:2]\n"
   ]
  },
  {
   "cell_type": "markdown",
   "metadata": {},
   "source": [
    "I can see the granuarity of the data provided is: year, month, day of month, day of week."
   ]
  },
  {
   "cell_type": "markdown",
   "metadata": {},
   "source": [
    "### Define function to read and convert data into a list of lists\n",
    "The data is currently organised into a list of strings where each string is effectively a row of data.\n",
    "Here I will convert each string into a list, so the data is then a list of lists."
   ]
  },
  {
   "cell_type": "code",
   "execution_count": 2,
   "metadata": {},
   "outputs": [],
   "source": [
    "def read_csv(input_csv):\n",
    "\n",
    "    file=open(input_csv,'r')\n",
    "\n",
    "    file=file.read()\n",
    "    file=str(file)\n",
    "    file_split=file.split('\\n')\n",
    "    string_list=file_split[1:]\n",
    "    \n",
    "    final_list=[]\n",
    "        \n",
    "    for x in string_list:\n",
    "        int_fields=[]\n",
    "        string_fields= x.split(',')              \n",
    "        \n",
    "        for y in string_fields:\n",
    "            number=int(y)\n",
    "            int_fields.append(number)\n",
    "        final_list.append(int_fields)\n",
    "        \n",
    "    return final_list"
   ]
  },
  {
   "cell_type": "code",
   "execution_count": 3,
   "metadata": {},
   "outputs": [
    {
     "data": {
      "text/plain": [
       "[[1994, 1, 1, 6, 8096],\n",
       " [1994, 1, 2, 7, 7772],\n",
       " [1994, 1, 3, 1, 10142],\n",
       " [1994, 1, 4, 2, 11248],\n",
       " [1994, 1, 5, 3, 11053],\n",
       " [1994, 1, 6, 4, 11406],\n",
       " [1994, 1, 7, 5, 11251],\n",
       " [1994, 1, 8, 6, 8653],\n",
       " [1994, 1, 9, 7, 7910],\n",
       " [1994, 1, 10, 1, 10498]]"
      ]
     },
     "execution_count": 3,
     "metadata": {},
     "output_type": "execute_result"
    }
   ],
   "source": [
    "# here I review the first 10 items in my list\n",
    "cdc_list=read_csv('US_births_1994-2003_CDC_NCHS.csv')\n",
    "\n",
    "cdc_list[:10]"
   ]
  },
  {
   "cell_type": "markdown",
   "metadata": {},
   "source": [
    "### Calculating number of births for each month"
   ]
  },
  {
   "cell_type": "code",
   "execution_count": 4,
   "metadata": {},
   "outputs": [],
   "source": [
    "def month_births(l_of_l):\n",
    "    births_per_month={}\n",
    "    \n",
    "    for x in l_of_l:\n",
    "        month=x[1]\n",
    "        if month in births_per_month:\n",
    "            births_per_month[month]=births_per_month[month]+x[-1]\n",
    "        else:\n",
    "            births_per_month[month]=x[-1]\n",
    "    return births_per_month"
   ]
  },
  {
   "cell_type": "code",
   "execution_count": 5,
   "metadata": {},
   "outputs": [
    {
     "data": {
      "text/plain": [
       "{1: 3232517,\n",
       " 2: 3018140,\n",
       " 3: 3322069,\n",
       " 4: 3185314,\n",
       " 5: 3350907,\n",
       " 6: 3296530,\n",
       " 7: 3498783,\n",
       " 8: 3525858,\n",
       " 9: 3439698,\n",
       " 10: 3378814,\n",
       " 11: 3171647,\n",
       " 12: 3301860}"
      ]
     },
     "execution_count": 5,
     "metadata": {},
     "output_type": "execute_result"
    }
   ],
   "source": [
    "cdc_month_births= month_births(cdc_list)\n",
    "\n",
    "cdc_month_births"
   ]
  },
  {
   "cell_type": "markdown",
   "metadata": {},
   "source": [
    "### Calculating number of births for each day of the week"
   ]
  },
  {
   "cell_type": "code",
   "execution_count": 6,
   "metadata": {},
   "outputs": [],
   "source": [
    "def dow_births(l_of_l):\n",
    "    births_of_dow={}\n",
    "    \n",
    "    for x in l_of_l:\n",
    "        if x[3] in births_of_dow:\n",
    "            births_of_dow[x[3]]=births_of_dow[x[3]]+x[-1]\n",
    "        else:\n",
    "            births_of_dow[x[3]]=x[-1]\n",
    "    return births_of_dow"
   ]
  },
  {
   "cell_type": "code",
   "execution_count": 7,
   "metadata": {},
   "outputs": [
    {
     "data": {
      "text/plain": [
       "{6: 4562111,\n",
       " 7: 4079723,\n",
       " 1: 5789166,\n",
       " 2: 6446196,\n",
       " 3: 6322855,\n",
       " 4: 6288429,\n",
       " 5: 6233657}"
      ]
     },
     "execution_count": 7,
     "metadata": {},
     "output_type": "execute_result"
    }
   ],
   "source": [
    "cdc_day_births=dow_births(cdc_list)\n",
    "\n",
    "cdc_day_births"
   ]
  },
  {
   "cell_type": "markdown",
   "metadata": {},
   "source": [
    "### Creating a general function to apply across any time frame"
   ]
  },
  {
   "cell_type": "code",
   "execution_count": 8,
   "metadata": {},
   "outputs": [],
   "source": [
    "def calc_counts(data, column):\n",
    "    total_dict={}\n",
    "    \n",
    "    for x in data:\n",
    "        if x[column] in total_dict:\n",
    "            total_dict[x[column]]=total_dict[x[column]]+x[-1]\n",
    "        else:\n",
    "            total_dict[x[column]]=x[-1]\n",
    "    return total_dict\n"
   ]
  },
  {
   "cell_type": "code",
   "execution_count": 9,
   "metadata": {},
   "outputs": [],
   "source": [
    "cdc_year_births = calc_counts(cdc_list, 0)\n",
    "cdc_month_births = calc_counts(cdc_list, 1)\n",
    "cdc_dom_births = calc_counts(cdc_list, 2)\n",
    "cdc_dow_births = calc_counts(cdc_list, 3)"
   ]
  },
  {
   "cell_type": "code",
   "execution_count": 10,
   "metadata": {},
   "outputs": [
    {
     "name": "stdout",
     "output_type": "stream",
     "text": [
      "{1994: 3952767, 1995: 3899589, 1996: 3891494, 1997: 3880894, 1998: 3941553, 1999: 3959417, 2000: 4058814, 2001: 4025933, 2002: 4021726, 2003: 4089950}\n"
     ]
    }
   ],
   "source": [
    "print(cdc_year_births)"
   ]
  },
  {
   "cell_type": "code",
   "execution_count": 11,
   "metadata": {},
   "outputs": [
    {
     "name": "stdout",
     "output_type": "stream",
     "text": [
      "{1: 3232517, 2: 3018140, 3: 3322069, 4: 3185314, 5: 3350907, 6: 3296530, 7: 3498783, 8: 3525858, 9: 3439698, 10: 3378814, 11: 3171647, 12: 3301860}\n"
     ]
    }
   ],
   "source": [
    "print(cdc_month_births)"
   ]
  },
  {
   "cell_type": "code",
   "execution_count": 12,
   "metadata": {},
   "outputs": [
    {
     "name": "stdout",
     "output_type": "stream",
     "text": [
      "{1: 1276557, 2: 1288739, 3: 1304499, 4: 1288154, 5: 1299953, 6: 1304474, 7: 1310459, 8: 1312297, 9: 1303292, 10: 1320764, 11: 1314361, 12: 1318437, 13: 1277684, 14: 1320153, 15: 1319171, 16: 1315192, 17: 1324953, 18: 1326855, 19: 1318727, 20: 1324821, 21: 1322897, 22: 1317381, 23: 1293290, 24: 1288083, 25: 1272116, 26: 1284796, 27: 1294395, 28: 1307685, 29: 1223161, 30: 1202095, 31: 746696}\n"
     ]
    }
   ],
   "source": [
    "print(cdc_dom_births)"
   ]
  },
  {
   "cell_type": "code",
   "execution_count": 13,
   "metadata": {},
   "outputs": [
    {
     "name": "stdout",
     "output_type": "stream",
     "text": [
      "{6: 4562111, 7: 4079723, 1: 5789166, 2: 6446196, 3: 6322855, 4: 6288429, 5: 6233657}\n"
     ]
    }
   ],
   "source": [
    "print(cdc_dow_births)"
   ]
  },
  {
   "cell_type": "markdown",
   "metadata": {},
   "source": [
    "### Creating a general function to apply across any 2 time frames\n",
    "e.g you can see the birth rate in January across all the years in the dataset.\n",
    "\n",
    "To use the function, the  column indexes are:\n",
    "\n",
    "'year' = 0\n",
    "\n",
    "'month' =1\n",
    "\n",
    "'date_of_month' =2\n",
    "\n",
    "'day_of_week' =3\n"
   ]
  },
  {
   "cell_type": "code",
   "execution_count": 14,
   "metadata": {},
   "outputs": [],
   "source": [
    "#This will allow you to extract the number of births across different 'column' \n",
    "# values (eg year) for a constant 'column 2' (eg month).\n",
    "# So for example you could see the year on year number of births in january.\n",
    "\n",
    "#column is varying eg year\n",
    "#column_2 is constant eg month over the years\n",
    "def calc_counter(data, column,column_2,values_c2): \n",
    "    total_dict={} \n",
    "    data_2=[]\n",
    "    for x in data:\n",
    "        if x[column_2] == values_c2:\n",
    "            data_2.append(x)\n",
    "        \n",
    "    #print(data_2)\n",
    "    \n",
    "    for x in data_2:\n",
    "        if x[column] in total_dict:\n",
    "            total_dict[x[column]]=total_dict[x[column]]+x[-1]\n",
    "        else:\n",
    "            total_dict[x[column]]=x[-1]\n",
    "    return total_dict\n"
   ]
  },
  {
   "cell_type": "markdown",
   "metadata": {},
   "source": [
    "We will now apply this function to 3 examples below."
   ]
  },
  {
   "cell_type": "markdown",
   "metadata": {},
   "source": [
    "###### Check birthrates in january for each year"
   ]
  },
  {
   "cell_type": "code",
   "execution_count": 15,
   "metadata": {},
   "outputs": [
    {
     "data": {
      "text/plain": [
       "{1994: 320705,\n",
       " 1995: 316013,\n",
       " 1996: 314283,\n",
       " 1997: 317211,\n",
       " 1998: 319340,\n",
       " 1999: 319182,\n",
       " 2000: 330108,\n",
       " 2001: 335198,\n",
       " 2002: 330674,\n",
       " 2003: 329803}"
      ]
     },
     "execution_count": 15,
     "metadata": {},
     "output_type": "execute_result"
    }
   ],
   "source": [
    "# check birthrates in january for each year\n",
    "jan_counter=calc_counter(cdc_list, 0,1, 1)\n",
    "jan_counter"
   ]
  },
  {
   "cell_type": "code",
   "execution_count": 16,
   "metadata": {},
   "outputs": [
    {
     "data": {
      "text/plain": [
       "True"
      ]
     },
     "execution_count": 16,
     "metadata": {},
     "output_type": "execute_result"
    }
   ],
   "source": [
    "# quick check: summing the jan counter dictionary value and\n",
    "# comparing to the the cdc_month_births result for month 1\n",
    "\n",
    "# cdc_months_births result\n",
    "jan= 3232517 \n",
    "\n",
    "# jan_counter dictionary results summed\n",
    "jan==(320705+ 316013+ 314283+ 317211+ 319340+ 319182+ 330108+ \n",
    "      335198+ 330674+329803)\n"
   ]
  },
  {
   "cell_type": "markdown",
   "metadata": {},
   "source": [
    "##### Birthrates on day 7 of the week for each year"
   ]
  },
  {
   "cell_type": "code",
   "execution_count": 17,
   "metadata": {},
   "outputs": [
    {
     "data": {
      "text/plain": [
       "{1994: 428752,\n",
       " 1995: 425790,\n",
       " 1996: 413336,\n",
       " 1997: 404478,\n",
       " 1998: 407129,\n",
       " 1999: 401991,\n",
       " 2000: 416454,\n",
       " 2001: 397119,\n",
       " 2002: 391375,\n",
       " 2003: 393299}"
      ]
     },
     "execution_count": 17,
     "metadata": {},
     "output_type": "execute_result"
    }
   ],
   "source": [
    "# check birthrates on day 7 of the week\n",
    "day_7=calc_counter(cdc_list, 0,3, 7) \n",
    "day_7"
   ]
  },
  {
   "cell_type": "code",
   "execution_count": 18,
   "metadata": {},
   "outputs": [
    {
     "data": {
      "text/plain": [
       "True"
      ]
     },
     "execution_count": 18,
     "metadata": {},
     "output_type": "execute_result"
    }
   ],
   "source": [
    "# check day 7 dictionary with the cdc_dow_births dictionary for day 7\n",
    "# using sum function and indexing this time\n",
    "\n",
    "sum(day_7.values()) ==cdc_dow_births[7]"
   ]
  },
  {
   "cell_type": "markdown",
   "metadata": {},
   "source": [
    "##### Birthrates on day 31 for each month"
   ]
  },
  {
   "cell_type": "code",
   "execution_count": 19,
   "metadata": {},
   "outputs": [
    {
     "data": {
      "text/plain": [
       "{1: 107281, 3: 103872, 5: 106984, 7: 116488, 8: 109017, 10: 99731, 12: 103323}"
      ]
     },
     "execution_count": 19,
     "metadata": {},
     "output_type": "execute_result"
    }
   ],
   "source": [
    "# check birthrates on day 7 of the week\n",
    "day_31=calc_counter(cdc_list, 1 ,2 , 31) \n",
    "day_31"
   ]
  },
  {
   "cell_type": "markdown",
   "metadata": {},
   "source": [
    "The day 31 dictionary correctly only contained the months with 31 days: months:\n",
    "1, 3, 5, 7, 8, 10 and 12 i.e January, March, May, July, August, October, and December"
   ]
  },
  {
   "cell_type": "code",
   "execution_count": 20,
   "metadata": {},
   "outputs": [
    {
     "data": {
      "text/plain": [
       "True"
      ]
     },
     "execution_count": 20,
     "metadata": {},
     "output_type": "execute_result"
    }
   ],
   "source": [
    "# check day 31 dictionary with the cdc_dom_births dictionary for day 31\n",
    "\n",
    "sum(day_31.values()) == cdc_dom_births[31]"
   ]
  }
 ],
 "metadata": {
  "anaconda-cloud": {},
  "kernelspec": {
   "display_name": "Python 3",
   "language": "python",
   "name": "python3"
  },
  "language_info": {
   "codemirror_mode": {
    "name": "ipython",
    "version": 3
   },
   "file_extension": ".py",
   "mimetype": "text/x-python",
   "name": "python",
   "nbconvert_exporter": "python",
   "pygments_lexer": "ipython3",
   "version": "3.6.5"
  }
 },
 "nbformat": 4,
 "nbformat_minor": 1
}
