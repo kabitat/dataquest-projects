{
 "cells": [
  {
   "cell_type": "markdown",
   "metadata": {},
   "source": [
    "## Answering Business Questions Using SQL\n",
    "\n",
    "In this project, I will be analysing tables in the [Chinook database](https://github.com/lerocha/chinook-database) that contains information from a Music Shop. Throughout the project, I will aim to answer different business questions by using: \n",
    "- the SQLite library for reading from the DB \n",
    "- pandas for handling data \n",
    "- and Matplotlib for visualisation."
   ]
  },
  {
   "cell_type": "markdown",
   "metadata": {},
   "source": [
    "### Importing libraries, creating helper functions and reading the database"
   ]
  },
  {
   "cell_type": "code",
   "execution_count": 1,
   "metadata": {},
   "outputs": [
    {
     "data": {
      "text/html": [
       "<div>\n",
       "<style scoped>\n",
       "    .dataframe tbody tr th:only-of-type {\n",
       "        vertical-align: middle;\n",
       "    }\n",
       "\n",
       "    .dataframe tbody tr th {\n",
       "        vertical-align: top;\n",
       "    }\n",
       "\n",
       "    .dataframe thead th {\n",
       "        text-align: right;\n",
       "    }\n",
       "</style>\n",
       "<table border=\"1\" class=\"dataframe\">\n",
       "  <thead>\n",
       "    <tr style=\"text-align: right;\">\n",
       "      <th></th>\n",
       "      <th>name</th>\n",
       "      <th>type</th>\n",
       "    </tr>\n",
       "  </thead>\n",
       "  <tbody>\n",
       "    <tr>\n",
       "      <th>0</th>\n",
       "      <td>album</td>\n",
       "      <td>table</td>\n",
       "    </tr>\n",
       "    <tr>\n",
       "      <th>1</th>\n",
       "      <td>artist</td>\n",
       "      <td>table</td>\n",
       "    </tr>\n",
       "    <tr>\n",
       "      <th>2</th>\n",
       "      <td>customer</td>\n",
       "      <td>table</td>\n",
       "    </tr>\n",
       "    <tr>\n",
       "      <th>3</th>\n",
       "      <td>employee</td>\n",
       "      <td>table</td>\n",
       "    </tr>\n",
       "    <tr>\n",
       "      <th>4</th>\n",
       "      <td>genre</td>\n",
       "      <td>table</td>\n",
       "    </tr>\n",
       "    <tr>\n",
       "      <th>5</th>\n",
       "      <td>invoice</td>\n",
       "      <td>table</td>\n",
       "    </tr>\n",
       "    <tr>\n",
       "      <th>6</th>\n",
       "      <td>invoice_line</td>\n",
       "      <td>table</td>\n",
       "    </tr>\n",
       "    <tr>\n",
       "      <th>7</th>\n",
       "      <td>media_type</td>\n",
       "      <td>table</td>\n",
       "    </tr>\n",
       "    <tr>\n",
       "      <th>8</th>\n",
       "      <td>playlist</td>\n",
       "      <td>table</td>\n",
       "    </tr>\n",
       "    <tr>\n",
       "      <th>9</th>\n",
       "      <td>playlist_track</td>\n",
       "      <td>table</td>\n",
       "    </tr>\n",
       "    <tr>\n",
       "      <th>10</th>\n",
       "      <td>track</td>\n",
       "      <td>table</td>\n",
       "    </tr>\n",
       "  </tbody>\n",
       "</table>\n",
       "</div>"
      ],
      "text/plain": [
       "              name   type\n",
       "0            album  table\n",
       "1           artist  table\n",
       "2         customer  table\n",
       "3         employee  table\n",
       "4            genre  table\n",
       "5          invoice  table\n",
       "6     invoice_line  table\n",
       "7       media_type  table\n",
       "8         playlist  table\n",
       "9   playlist_track  table\n",
       "10           track  table"
      ]
     },
     "execution_count": 1,
     "metadata": {},
     "output_type": "execute_result"
    }
   ],
   "source": [
    "import sqlite3\n",
    "import pandas as pd\n",
    "import numpy as np\n",
    "import matplotlib.pyplot as plt\n",
    "from matplotlib import cm\n",
    "%matplotlib inline\n",
    "\n",
    "db= 'chinook.db'\n",
    "\n",
    "def run_query(q):\n",
    "    with sqlite3.connect(db) as conn:\n",
    "        return pd.read_sql(q, conn)\n",
    "    \n",
    "def run_command(c):\n",
    "    with sqlite3.connect(db) as conn:\n",
    "        conn.isolation_level= None\n",
    "        conn.execute(c)\n",
    "        \n",
    "def show_tables():\n",
    "    q= '''\n",
    "    SELECT name, type\n",
    "    FROM sqlite_master\n",
    "    WHERE type IN (\"table\",\"view\")\n",
    "    '''\n",
    "    return run_query(q)\n",
    "\n",
    "show_tables()  "
   ]
  },
  {
   "cell_type": "code",
   "execution_count": 2,
   "metadata": {},
   "outputs": [
    {
     "data": {
      "text/html": [
       "<div>\n",
       "<style scoped>\n",
       "    .dataframe tbody tr th:only-of-type {\n",
       "        vertical-align: middle;\n",
       "    }\n",
       "\n",
       "    .dataframe tbody tr th {\n",
       "        vertical-align: top;\n",
       "    }\n",
       "\n",
       "    .dataframe thead th {\n",
       "        text-align: right;\n",
       "    }\n",
       "</style>\n",
       "<table border=\"1\" class=\"dataframe\">\n",
       "  <thead>\n",
       "    <tr style=\"text-align: right;\">\n",
       "      <th></th>\n",
       "      <th>invoice_id</th>\n",
       "      <th>customer_id</th>\n",
       "      <th>invoice_date</th>\n",
       "      <th>billing_address</th>\n",
       "      <th>billing_city</th>\n",
       "      <th>billing_state</th>\n",
       "      <th>billing_country</th>\n",
       "      <th>billing_postal_code</th>\n",
       "      <th>total</th>\n",
       "    </tr>\n",
       "  </thead>\n",
       "  <tbody>\n",
       "    <tr>\n",
       "      <th>0</th>\n",
       "      <td>1</td>\n",
       "      <td>18</td>\n",
       "      <td>2017-01-03 00:00:00</td>\n",
       "      <td>627 Broadway</td>\n",
       "      <td>New York</td>\n",
       "      <td>NY</td>\n",
       "      <td>USA</td>\n",
       "      <td>10012-2612</td>\n",
       "      <td>15.84</td>\n",
       "    </tr>\n",
       "    <tr>\n",
       "      <th>1</th>\n",
       "      <td>2</td>\n",
       "      <td>30</td>\n",
       "      <td>2017-01-03 00:00:00</td>\n",
       "      <td>230 Elgin Street</td>\n",
       "      <td>Ottawa</td>\n",
       "      <td>ON</td>\n",
       "      <td>Canada</td>\n",
       "      <td>K2P 1L7</td>\n",
       "      <td>9.90</td>\n",
       "    </tr>\n",
       "    <tr>\n",
       "      <th>2</th>\n",
       "      <td>3</td>\n",
       "      <td>40</td>\n",
       "      <td>2017-01-05 00:00:00</td>\n",
       "      <td>8, Rue Hanovre</td>\n",
       "      <td>Paris</td>\n",
       "      <td>None</td>\n",
       "      <td>France</td>\n",
       "      <td>75002</td>\n",
       "      <td>1.98</td>\n",
       "    </tr>\n",
       "    <tr>\n",
       "      <th>3</th>\n",
       "      <td>4</td>\n",
       "      <td>18</td>\n",
       "      <td>2017-01-06 00:00:00</td>\n",
       "      <td>627 Broadway</td>\n",
       "      <td>New York</td>\n",
       "      <td>NY</td>\n",
       "      <td>USA</td>\n",
       "      <td>10012-2612</td>\n",
       "      <td>7.92</td>\n",
       "    </tr>\n",
       "    <tr>\n",
       "      <th>4</th>\n",
       "      <td>5</td>\n",
       "      <td>27</td>\n",
       "      <td>2017-01-07 00:00:00</td>\n",
       "      <td>1033 N Park Ave</td>\n",
       "      <td>Tucson</td>\n",
       "      <td>AZ</td>\n",
       "      <td>USA</td>\n",
       "      <td>85719</td>\n",
       "      <td>16.83</td>\n",
       "    </tr>\n",
       "  </tbody>\n",
       "</table>\n",
       "</div>"
      ],
      "text/plain": [
       "   invoice_id  customer_id         invoice_date   billing_address  \\\n",
       "0           1           18  2017-01-03 00:00:00      627 Broadway   \n",
       "1           2           30  2017-01-03 00:00:00  230 Elgin Street   \n",
       "2           3           40  2017-01-05 00:00:00    8, Rue Hanovre   \n",
       "3           4           18  2017-01-06 00:00:00      627 Broadway   \n",
       "4           5           27  2017-01-07 00:00:00   1033 N Park Ave   \n",
       "\n",
       "  billing_city billing_state billing_country billing_postal_code  total  \n",
       "0     New York            NY             USA          10012-2612  15.84  \n",
       "1       Ottawa            ON          Canada             K2P 1L7   9.90  \n",
       "2        Paris          None          France               75002   1.98  \n",
       "3     New York            NY             USA          10012-2612   7.92  \n",
       "4       Tucson            AZ             USA               85719  16.83  "
      ]
     },
     "execution_count": 2,
     "metadata": {},
     "output_type": "execute_result"
    }
   ],
   "source": [
    "# viewing some data in one of the tables\n",
    "select_data= '''\n",
    "SELECT * \n",
    "FROM invoice\n",
    "'''\n",
    "run_query(select_data).head()"
   ]
  },
  {
   "cell_type": "markdown",
   "metadata": {
    "collapsed": true
   },
   "source": [
    "### What kind of albums should we be selling?\n",
    "\n",
    "For this business question, we will look at past sales of albums based on genre.\n"
   ]
  },
  {
   "cell_type": "code",
   "execution_count": 3,
   "metadata": {
    "scrolled": true
   },
   "outputs": [
    {
     "data": {
      "text/html": [
       "<div>\n",
       "<style scoped>\n",
       "    .dataframe tbody tr th:only-of-type {\n",
       "        vertical-align: middle;\n",
       "    }\n",
       "\n",
       "    .dataframe tbody tr th {\n",
       "        vertical-align: top;\n",
       "    }\n",
       "\n",
       "    .dataframe thead th {\n",
       "        text-align: right;\n",
       "    }\n",
       "</style>\n",
       "<table border=\"1\" class=\"dataframe\">\n",
       "  <thead>\n",
       "    <tr style=\"text-align: right;\">\n",
       "      <th></th>\n",
       "      <th>genre</th>\n",
       "      <th>tracks_sold</th>\n",
       "      <th>percent_tracks_sold</th>\n",
       "    </tr>\n",
       "  </thead>\n",
       "  <tbody>\n",
       "    <tr>\n",
       "      <th>0</th>\n",
       "      <td>Rock</td>\n",
       "      <td>2635</td>\n",
       "      <td>0.553921</td>\n",
       "    </tr>\n",
       "    <tr>\n",
       "      <th>1</th>\n",
       "      <td>Metal</td>\n",
       "      <td>619</td>\n",
       "      <td>0.130124</td>\n",
       "    </tr>\n",
       "    <tr>\n",
       "      <th>2</th>\n",
       "      <td>Alternative &amp; Punk</td>\n",
       "      <td>492</td>\n",
       "      <td>0.103427</td>\n",
       "    </tr>\n",
       "    <tr>\n",
       "      <th>3</th>\n",
       "      <td>Latin</td>\n",
       "      <td>167</td>\n",
       "      <td>0.035106</td>\n",
       "    </tr>\n",
       "    <tr>\n",
       "      <th>4</th>\n",
       "      <td>R&amp;B/Soul</td>\n",
       "      <td>159</td>\n",
       "      <td>0.033424</td>\n",
       "    </tr>\n",
       "    <tr>\n",
       "      <th>5</th>\n",
       "      <td>Blues</td>\n",
       "      <td>124</td>\n",
       "      <td>0.026067</td>\n",
       "    </tr>\n",
       "    <tr>\n",
       "      <th>6</th>\n",
       "      <td>Jazz</td>\n",
       "      <td>121</td>\n",
       "      <td>0.025436</td>\n",
       "    </tr>\n",
       "    <tr>\n",
       "      <th>7</th>\n",
       "      <td>Alternative</td>\n",
       "      <td>117</td>\n",
       "      <td>0.024595</td>\n",
       "    </tr>\n",
       "    <tr>\n",
       "      <th>8</th>\n",
       "      <td>Easy Listening</td>\n",
       "      <td>74</td>\n",
       "      <td>0.015556</td>\n",
       "    </tr>\n",
       "    <tr>\n",
       "      <th>9</th>\n",
       "      <td>Pop</td>\n",
       "      <td>63</td>\n",
       "      <td>0.013244</td>\n",
       "    </tr>\n",
       "  </tbody>\n",
       "</table>\n",
       "</div>"
      ],
      "text/plain": [
       "                genre  tracks_sold  percent_tracks_sold\n",
       "0                Rock         2635             0.553921\n",
       "1               Metal          619             0.130124\n",
       "2  Alternative & Punk          492             0.103427\n",
       "3               Latin          167             0.035106\n",
       "4            R&B/Soul          159             0.033424\n",
       "5               Blues          124             0.026067\n",
       "6                Jazz          121             0.025436\n",
       "7         Alternative          117             0.024595\n",
       "8      Easy Listening           74             0.015556\n",
       "9                 Pop           63             0.013244"
      ]
     },
     "execution_count": 3,
     "metadata": {},
     "output_type": "execute_result"
    }
   ],
   "source": [
    "# this query will return results of each genre, with the number of tracks sold\n",
    "# in absolute numbers and in percentages.\n",
    "albums_to_purchase= '''\n",
    "      WITH subquery AS \n",
    "               (SELECT * \n",
    "                  FROM customer c \n",
    "            INNER JOIN invoice i \n",
    "                    ON i.customer_id = c.customer_id \n",
    "            INNER JOIN invoice_line il \n",
    "                    ON il.invoice_id = i.invoice_id) \n",
    "    SELECT g.NAME genre, \n",
    "           Count (s.quantity) tracks_sold, \n",
    "           (Cast(Count(s.quantity) AS FLOAT))/ \n",
    "                            (SELECT Count(*) \n",
    "                               FROM subquery) percent_tracks_sold \n",
    "      FROM subquery s \n",
    "INNER JOIN track t \n",
    "        ON t.track_id = s.track_id \n",
    "INNER JOIN genre g \n",
    "        ON g.genre_id = t.genre_id \n",
    "  GROUP BY 1 \n",
    "  ORDER BY 2 DESC limit 10\n",
    "    '''\n",
    "\n",
    "run_query(albums_to_purchase)\n",
    "    "
   ]
  },
  {
   "cell_type": "markdown",
   "metadata": {},
   "source": [
    "Next, I will plot some data from the result set in a bar plot."
   ]
  },
  {
   "cell_type": "code",
   "execution_count": 4,
   "metadata": {},
   "outputs": [
    {
     "data": {
      "image/png": "[encoded data removed]",
      "text/plain": [
       "<Figure size 432x288 with 1 Axes>"
      ]
     },
     "metadata": {},
     "output_type": "display_data"
    }
   ],
   "source": [
    "genre_sales = run_query(albums_to_purchase)\n",
    "genre_sales.set_index(\"genre\", inplace= True, drop= True)\n",
    "\n",
    "genre_sales[\"tracks_sold\"].plot.barh(\n",
    "    title= \"Albums Sold per Genre\",\n",
    "    xlim= (0, 3000),\n",
    "    colormap=plt.cm.Accent)\n",
    "\n",
    "plt.ylabel('Genre')\n",
    "plt.xlabel('Albums Sold')\n",
    "\n",
    "for i, label in enumerate (list(genre_sales.index)):\n",
    "    score = genre_sales.loc[label, \"tracks_sold\"]\n",
    "    label= (genre_sales.loc[label, \"percent_tracks_sold\"]*100\n",
    "           ).astype(int).astype(str) + \"%\"\n",
    "    plt.annotate(str(label), (score + 10, i - 0.15))\n",
    "plt.show()"
   ]
  },
  {
   "cell_type": "markdown",
   "metadata": {},
   "source": [
    "Based on the sales of tracks across different genres, we should purchase Rock genre albums since they account for 55% of sales."
   ]
  },
  {
   "cell_type": "markdown",
   "metadata": {},
   "source": [
    "### How is employee performance?\n",
    "Here, we want to assess how our employees have performed in terms of sales generated."
   ]
  },
  {
   "cell_type": "code",
   "execution_count": 5,
   "metadata": {},
   "outputs": [
    {
     "data": {
      "text/html": [
       "<div>\n",
       "<style scoped>\n",
       "    .dataframe tbody tr th:only-of-type {\n",
       "        vertical-align: middle;\n",
       "    }\n",
       "\n",
       "    .dataframe tbody tr th {\n",
       "        vertical-align: top;\n",
       "    }\n",
       "\n",
       "    .dataframe thead th {\n",
       "        text-align: right;\n",
       "    }\n",
       "</style>\n",
       "<table border=\"1\" class=\"dataframe\">\n",
       "  <thead>\n",
       "    <tr style=\"text-align: right;\">\n",
       "      <th></th>\n",
       "      <th>employee_id</th>\n",
       "      <th>hire_date</th>\n",
       "      <th>total_sales</th>\n",
       "    </tr>\n",
       "  </thead>\n",
       "  <tbody>\n",
       "    <tr>\n",
       "      <th>0</th>\n",
       "      <td>5</td>\n",
       "      <td>2017-10-17 00:00:00</td>\n",
       "      <td>1393.92</td>\n",
       "    </tr>\n",
       "    <tr>\n",
       "      <th>1</th>\n",
       "      <td>4</td>\n",
       "      <td>2017-05-03 00:00:00</td>\n",
       "      <td>1584.00</td>\n",
       "    </tr>\n",
       "    <tr>\n",
       "      <th>2</th>\n",
       "      <td>3</td>\n",
       "      <td>2017-04-01 00:00:00</td>\n",
       "      <td>1731.51</td>\n",
       "    </tr>\n",
       "  </tbody>\n",
       "</table>\n",
       "</div>"
      ],
      "text/plain": [
       "   employee_id            hire_date  total_sales\n",
       "0            5  2017-10-17 00:00:00      1393.92\n",
       "1            4  2017-05-03 00:00:00      1584.00\n",
       "2            3  2017-04-01 00:00:00      1731.51"
      ]
     },
     "execution_count": 5,
     "metadata": {},
     "output_type": "execute_result"
    }
   ],
   "source": [
    "employee_performance= '''\n",
    "     WITH subquery AS \n",
    "              (SELECT * \n",
    "                 FROM customer c \n",
    "           INNER JOIN invoice i \n",
    "                   ON i.customer_id = c.customer_id) \n",
    "   SELECT e.employee_id, \n",
    "          e.hire_date, \n",
    "          Sum(s.total) total_sales \n",
    "     FROM employee e \n",
    "LEFT JOIN subquery s \n",
    "       ON e.employee_id = s.support_rep_id \n",
    "    WHERE e.title = \"Sales Support Agent\" \n",
    "    GROUP BY 1 \n",
    "    ORDER BY 2 DESC \n",
    "\n",
    "   \n",
    " '''\n",
    "run_query(employee_performance)"
   ]
  },
  {
   "cell_type": "markdown",
   "metadata": {},
   "source": [
    "I will plot some data from the result set in a bar plot."
   ]
  },
  {
   "cell_type": "code",
   "execution_count": 6,
   "metadata": {},
   "outputs": [
    {
     "data": {
      "image/png": "[encoded data removed]",
      "text/plain": [
       "<Figure size 432x288 with 1 Axes>"
      ]
     },
     "metadata": {},
     "output_type": "display_data"
    }
   ],
   "source": [
    "employee_perf = run_query(employee_performance)\n",
    "employee_perf.set_index(\"employee_id\", inplace= True, drop= True)\n",
    "\n",
    "employee_perf[\"total_sales\"].plot.barh(\n",
    "    title= \"Total Sales per Employee\",\n",
    "    xlim= (0, 1800),\n",
    "    colormap=plt.cm.Accent)\n",
    "\n",
    "plt.ylabel('Employee ID')\n",
    "plt.xlabel('Total Sales')\n",
    "plt.show()"
   ]
  },
  {
   "cell_type": "markdown",
   "metadata": {
    "collapsed": true
   },
   "source": [
    "The employees were all hired within 6 months of one another. The longest standing employee is also the top selling employee with more sales than the other two newer ones, which is as expected as they had more time to produce more sales. \n",
    "\n",
    "There is a ~350 sales difference between the top employee and the bottom employee, which is a difference of 24%."
   ]
  },
  {
   "cell_type": "markdown",
   "metadata": {},
   "source": [
    "### How do sales vary between countries?\n",
    "We can use the results of this question to see where there are opportunities."
   ]
  },
  {
   "cell_type": "code",
   "execution_count": 7,
   "metadata": {
    "scrolled": true
   },
   "outputs": [],
   "source": [
    "a= ''' DROP VIEW IF EXISTS country_customer_sales'''\n",
    "run_command(a)\n",
    "\n",
    "#Creating table view to do calculations before grouping and sorting in next cell\n",
    "c= '''\n",
    "CREATE VIEW country_customer_sales \n",
    "         AS \n",
    "     SELECT c.country, \n",
    "            Count (DISTINCT c.customer_id)  total_country_customer, \n",
    "            SUM (i.total)                   total_country_sales, \n",
    "            SUM (i.total) / COUNT(DISTINCT c.customer_id) \n",
    "                                            average_value_sale_per_customer, \n",
    "            SUM (i.total) / COUNT(i.invoice_id) \n",
    "                                            average_order_value \n",
    "       FROM customer c \n",
    " INNER JOIN invoice i \n",
    "         ON i.customer_id = c.customer_id \n",
    "   GROUP BY 1 \n",
    "   ORDER BY 3 DESC; \n",
    "\n",
    "'''\n",
    "run_command(c)"
   ]
  },
  {
   "cell_type": "code",
   "execution_count": 8,
   "metadata": {},
   "outputs": [
    {
     "data": {
      "text/html": [
       "<div>\n",
       "<style scoped>\n",
       "    .dataframe tbody tr th:only-of-type {\n",
       "        vertical-align: middle;\n",
       "    }\n",
       "\n",
       "    .dataframe tbody tr th {\n",
       "        vertical-align: top;\n",
       "    }\n",
       "\n",
       "    .dataframe thead th {\n",
       "        text-align: right;\n",
       "    }\n",
       "</style>\n",
       "<table border=\"1\" class=\"dataframe\">\n",
       "  <thead>\n",
       "    <tr style=\"text-align: right;\">\n",
       "      <th></th>\n",
       "      <th>country</th>\n",
       "      <th>total_country_customer</th>\n",
       "      <th>total_country_sales</th>\n",
       "      <th>average_value_sale_per_customer</th>\n",
       "      <th>average_order_value</th>\n",
       "    </tr>\n",
       "  </thead>\n",
       "  <tbody>\n",
       "    <tr>\n",
       "      <th>0</th>\n",
       "      <td>USA</td>\n",
       "      <td>13</td>\n",
       "      <td>1040.49</td>\n",
       "      <td>80.037692</td>\n",
       "      <td>7.942672</td>\n",
       "    </tr>\n",
       "    <tr>\n",
       "      <th>1</th>\n",
       "      <td>Canada</td>\n",
       "      <td>8</td>\n",
       "      <td>535.59</td>\n",
       "      <td>66.948750</td>\n",
       "      <td>7.047237</td>\n",
       "    </tr>\n",
       "    <tr>\n",
       "      <th>2</th>\n",
       "      <td>Brazil</td>\n",
       "      <td>5</td>\n",
       "      <td>427.68</td>\n",
       "      <td>85.536000</td>\n",
       "      <td>7.011148</td>\n",
       "    </tr>\n",
       "    <tr>\n",
       "      <th>3</th>\n",
       "      <td>France</td>\n",
       "      <td>5</td>\n",
       "      <td>389.07</td>\n",
       "      <td>77.814000</td>\n",
       "      <td>7.781400</td>\n",
       "    </tr>\n",
       "    <tr>\n",
       "      <th>4</th>\n",
       "      <td>Germany</td>\n",
       "      <td>4</td>\n",
       "      <td>334.62</td>\n",
       "      <td>83.655000</td>\n",
       "      <td>8.161463</td>\n",
       "    </tr>\n",
       "    <tr>\n",
       "      <th>5</th>\n",
       "      <td>Czech Republic</td>\n",
       "      <td>2</td>\n",
       "      <td>273.24</td>\n",
       "      <td>136.620000</td>\n",
       "      <td>9.108000</td>\n",
       "    </tr>\n",
       "    <tr>\n",
       "      <th>6</th>\n",
       "      <td>United Kingdom</td>\n",
       "      <td>3</td>\n",
       "      <td>245.52</td>\n",
       "      <td>81.840000</td>\n",
       "      <td>8.768571</td>\n",
       "    </tr>\n",
       "    <tr>\n",
       "      <th>7</th>\n",
       "      <td>Portugal</td>\n",
       "      <td>2</td>\n",
       "      <td>185.13</td>\n",
       "      <td>92.565000</td>\n",
       "      <td>6.383793</td>\n",
       "    </tr>\n",
       "    <tr>\n",
       "      <th>8</th>\n",
       "      <td>India</td>\n",
       "      <td>2</td>\n",
       "      <td>183.15</td>\n",
       "      <td>91.575000</td>\n",
       "      <td>8.721429</td>\n",
       "    </tr>\n",
       "    <tr>\n",
       "      <th>9</th>\n",
       "      <td>Other</td>\n",
       "      <td>15</td>\n",
       "      <td>1094.94</td>\n",
       "      <td>72.996000</td>\n",
       "      <td>7.445071</td>\n",
       "    </tr>\n",
       "  </tbody>\n",
       "</table>\n",
       "</div>"
      ],
      "text/plain": [
       "          country  total_country_customer  total_country_sales  \\\n",
       "0             USA                      13              1040.49   \n",
       "1          Canada                       8               535.59   \n",
       "2          Brazil                       5               427.68   \n",
       "3          France                       5               389.07   \n",
       "4         Germany                       4               334.62   \n",
       "5  Czech Republic                       2               273.24   \n",
       "6  United Kingdom                       3               245.52   \n",
       "7        Portugal                       2               185.13   \n",
       "8           India                       2               183.15   \n",
       "9           Other                      15              1094.94   \n",
       "\n",
       "   average_value_sale_per_customer  average_order_value  \n",
       "0                        80.037692             7.942672  \n",
       "1                        66.948750             7.047237  \n",
       "2                        85.536000             7.011148  \n",
       "3                        77.814000             7.781400  \n",
       "4                        83.655000             8.161463  \n",
       "5                       136.620000             9.108000  \n",
       "6                        81.840000             8.768571  \n",
       "7                        92.565000             6.383793  \n",
       "8                        91.575000             8.721429  \n",
       "9                        72.996000             7.445071  "
      ]
     },
     "execution_count": 8,
     "metadata": {},
     "output_type": "execute_result"
    }
   ],
   "source": [
    "#Grouping and sorting table view created in previous cell\n",
    "q = '''\n",
    "  SELECT country, \n",
    "         SUM(total_country_customer) total_country_customer, \n",
    "         SUM(total_country_sales)    total_country_sales, \n",
    "         SUM(average_value_sale_per_customer) / Count(total_country_customer) \n",
    "                                     average_value_sale_per_customer, \n",
    "         SUM(average_order_value) / COUNT(total_country_customer) \n",
    "                                     average_order_value \n",
    "    FROM (SELECT CASE \n",
    "                 WHEN ccs.total_country_customer = 1 THEN \"Other\" \n",
    "                 ELSE ccs.country \n",
    "               END AS country, \n",
    "                 CASE \n",
    "                 WHEN ccs.total_country_customer = 1 THEN 1 \n",
    "                 ELSE 0 \n",
    "               END AS sort, \n",
    "                 ccs.total_country_customer, \n",
    "                 ccs.total_country_sales, \n",
    "                 ccs.average_value_sale_per_customer, \n",
    "                 ccs.average_order_value \n",
    "            FROM country_customer_sales ccs)  \n",
    "GROUP BY country \n",
    "ORDER BY sort ASC, \n",
    "         total_country_sales DESC \n",
    "'''\n",
    "\n",
    "run_query(q)"
   ]
  },
  {
   "cell_type": "markdown",
   "metadata": {},
   "source": [
    "This result set has aggregated the data to give per country metrics of:\n",
    "- total customers\n",
    "- total sales (USD)\n",
    "- average value of sales per customer (USD)\n",
    "- average order value (USD)\n",
    "\n",
    "There is also an \"Other\" group of 15 other countries. They have been classed as \"Other\" because we only have 1 customer per country in this group, and each have less sales value than than India (has 2 customers)."
   ]
  },
  {
   "cell_type": "code",
   "execution_count": 9,
   "metadata": {},
   "outputs": [],
   "source": [
    "country_sale = run_query(q)"
   ]
  },
  {
   "cell_type": "markdown",
   "metadata": {},
   "source": [
    "#### Visualising Sales per Country"
   ]
  },
  {
   "cell_type": "code",
   "execution_count": 10,
   "metadata": {},
   "outputs": [
    {
     "data": {
      "image/png": "[encoded data removed]",
      "text/plain": [
       "<Figure size 432x288 with 1 Axes>"
      ]
     },
     "metadata": {},
     "output_type": "display_data"
    }
   ],
   "source": [
    "x = np.arange(10)\n",
    "ys = [i+x+(i*x)**2 for i in range(10)]\n",
    "colors = cm.rainbow(np.linspace(0, 1, len(ys)))\n",
    "\n",
    "labels = country_sale['country']\n",
    "values = country_sale['total_country_sales']\n",
    "\n",
    "plt.pie(values, labels=labels, autopct='%1.1f%%', \n",
    "       startangle=90, colors=colors )\n",
    "plt.title('Percentage Sales per Country')\n",
    "\n",
    "plt.axis(\"equal\")\n",
    "plt.show()"
   ]
  },
  {
   "cell_type": "markdown",
   "metadata": {},
   "source": [
    "From this pie chart, we can see that the USA account for 22.1% of sales. \n",
    "\n",
    "We can also see there are 8 other countries which account for the majority of the rest of sale. \n",
    "\n",
    "Also, the \"Other\" group of 15 other countries (with 1 customer each) account for 23.2% of sales. "
   ]
  },
  {
   "cell_type": "markdown",
   "metadata": {},
   "source": [
    "#### Visualising Sales and Customers per Country"
   ]
  },
  {
   "cell_type": "code",
   "execution_count": 11,
   "metadata": {},
   "outputs": [
    {
     "data": {
      "image/png": "[encoded data removed]",
      "text/plain": [
       "<Figure size 432x288 with 1 Axes>"
      ]
     },
     "metadata": {},
     "output_type": "display_data"
    }
   ],
   "source": [
    "customer = country_sale['total_country_customer']\n",
    "sales = country_sale['total_country_sales']\n",
    "\n",
    "percent_customer = (customer/customer.sum())*100\n",
    "percent_sales = (sales/sales.sum())*100\n",
    "\n",
    "barWidth = 0.25\n",
    "\n",
    "r1 = np.arange(len(percent_customer))\n",
    "r2 = [x + barWidth for x in r1]\n",
    "\n",
    "plt.bar(r1, percent_customer, color='red', width=barWidth, \n",
    "        edgecolor='white', label='Customers')\n",
    "plt.bar(r2, percent_sales, color='grey', width=barWidth, \n",
    "        edgecolor='white', label='Sales')\n",
    "\n",
    "plt.xticks([r + barWidth for r in range(10)], \n",
    "           country_sale['country'], rotation=90)\n",
    "plt.title('Percentage Customers and Sales per Country')\n",
    "\n",
    "plt.ylabel('Percentage')\n",
    "\n",
    "plt.legend()\n",
    "plt.show()\n"
   ]
  },
  {
   "cell_type": "markdown",
   "metadata": {},
   "source": [
    "This dual bar plot shows the percentage of total customers and total sales each country accounts for.\n",
    "\n",
    "The grey bar plots are showing the same sales % values as previously seen in the pie chart before. \n",
    "\n",
    "But by also plotting the red bar plot for customers, we can see the relative value of sales given the size of the countries customer base. \n",
    "\n",
    "Previously, we already saw that the USA produced the most sales, and now we can see it also holds the most customers so this might've been expected.\n",
    "\n",
    "More interestingly, we can see the Czech Republic has the highest sales to customer ratio, with ~3% of customer producing ~6% of sales, which is a 2:1 sales to customer ratio, whereas for USA this ratio is 1:1."
   ]
  },
  {
   "cell_type": "markdown",
   "metadata": {},
   "source": [
    "#### Visualising Average Country Order Value vs Overall Mean"
   ]
  },
  {
   "cell_type": "code",
   "execution_count": 12,
   "metadata": {},
   "outputs": [
    {
     "data": {
      "image/png": "[encoded data removed]",
      "text/plain": [
       "<Figure size 432x288 with 1 Axes>"
      ]
     },
     "metadata": {},
     "output_type": "display_data"
    }
   ],
   "source": [
    "#plots the percentage difference of the average order value \n",
    "#from mean value\n",
    "\n",
    "country = country_sale['country']\n",
    "value_order = country_sale[\"average_order_value\"]\n",
    "\n",
    "difference_from_mean = value_order * (100 / value_order.mean()) -100\n",
    "\n",
    "ax = plt.subplot(111)\n",
    "\n",
    "plt.bar(x=range(10), height=difference_from_mean, color=colors)\n",
    "plt.xticks([r  for r in range(10)], \n",
    "           country_sale['country'], rotation=90)\n",
    "plt.tick_params(axis='x', which='both', bottom=False, top=False, \n",
    "                labelbottom=True)\n",
    "plt.axhline(y=0, color='black', linewidth=1)\n",
    "ax.spines[\"top\"].set_visible(False)\n",
    "ax.spines[\"right\"].set_visible(False)\n",
    "ax.spines[\"bottom\"].set_visible(False)\n",
    "\n",
    "plt.title('Percentage difference of average \\norder value from overall mean')\n",
    "plt.show()"
   ]
  },
  {
   "cell_type": "markdown",
   "metadata": {},
   "source": [
    "This bar plot shows the difference in average order value from the overall mean per country.\n",
    "\n",
    "We can see there are 3 countries where this difference is quite significantly high: Czech Republic, United Kingdom and India.\n",
    "\n",
    "This helps us to understand that customers in these countries have a higher tendency to place higher value orders than customer in other countries e.g Portugal, Canada, Brazil where customers might place lower value orders.\n",
    "\n",
    "This plot does not account for the volume of orders (i.e how many) customers from each country place. "
   ]
  },
  {
   "cell_type": "markdown",
   "metadata": {},
   "source": [
    "#### Visualising Customer Life Time Value"
   ]
  },
  {
   "cell_type": "code",
   "execution_count": 13,
   "metadata": {
    "scrolled": false
   },
   "outputs": [
    {
     "data": {
      "image/png": "[encoded data removed]",
      "text/plain": [
       "<Figure size 432x288 with 1 Axes>"
      ]
     },
     "metadata": {},
     "output_type": "display_data"
    }
   ],
   "source": [
    "#shows total value customers have spent per country\n",
    "\n",
    "customer_value = country_sale['average_value_sale_per_customer']\n",
    "\n",
    "ax = plt.subplot(111)\n",
    "\n",
    "plt.bar(x=range(10), height=customer_value, color=colors)\n",
    "plt.xticks([r  for r in range(10)], \n",
    "           country_sale['country'], rotation=90)\n",
    "plt.tick_params(axis='x', which='both', bottom=False, top=False, \n",
    "                labelbottom=True)\n",
    "plt.axhline(y=0, color='black', linewidth=1)\n",
    "ax.spines[\"top\"].set_visible(False)\n",
    "ax.spines[\"right\"].set_visible(False)\n",
    "\n",
    "plt.ylabel('Dollars')\n",
    "plt.title('Average Customer Lifetime Value')\n",
    "plt.show()\n"
   ]
  },
  {
   "cell_type": "markdown",
   "metadata": {},
   "source": [
    "This plot shows the average customer lifetime value (i.e average total sales per customer) per country.\n",
    "\n",
    "We can see than most countries, on average customers spend between ~70USD and ~90USD.\n",
    "\n",
    "The Czech Republic stands out as significantly higher than the rest, with an value of ~135USD."
   ]
  },
  {
   "cell_type": "markdown",
   "metadata": {},
   "source": [
    "#### Where are the opportunities?"
   ]
  },
  {
   "cell_type": "markdown",
   "metadata": {},
   "source": [
    "Based on these plots, there may be opportunity in:\n",
    "* Czech Rebulic \n",
    "    - ratio of value of sales to number of customers is the highest\n",
    "    - and on average, customers are making higher value orders compared to other countries. \n",
    "\n",
    "* United Kingdom\n",
    "* India \n",
    "    - customers in these countries also have a higher average order spend compared to other countries, \n",
    "    - and also have a favourable sales to customer ratio.\n",
    "\n",
    "However, the sample size is relatively low (these 3 countries make up less than 25% of the overall sales). So we should be cautious in investing a lot of money in marketing for now. \n",
    "\n",
    "Rather, we could suggest running smaller campaigns and analyzing data from the new customers to make sure that these trends still hold, and then decide if it is worth further investment."
   ]
  }
 ],
 "metadata": {
  "kernelspec": {
   "display_name": "Python 3",
   "language": "python",
   "name": "python3"
  },
  "language_info": {
   "codemirror_mode": {
    "name": "ipython",
    "version": 3
   },
   "file_extension": ".py",
   "mimetype": "text/x-python",
   "name": "python",
   "nbconvert_exporter": "python",
   "pygments_lexer": "ipython3",
   "version": "3.6.5"
  }
 },
 "nbformat": 4,
 "nbformat_minor": 2
}
